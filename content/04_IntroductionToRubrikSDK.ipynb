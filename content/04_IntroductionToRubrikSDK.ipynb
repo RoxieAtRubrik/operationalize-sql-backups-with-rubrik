{
    "cells": [
        {
            "cell_type": "markdown",
            "metadata": {
                "azdata_cell_guid": "05ed2a54-4ab4-450d-b533-9d6d09d01952",
                "language": ""
            },
            "source": [
                "# Introduction to Rubrik SDK\n",
                "All SDKs that are available at this time can be found on [build.rubrik.com](build.rubrik.com). Rubrik offers 3 SDKs at the time of this writing. \n",
                "- `Go`\n",
                "- `Powershell`\n",
                "- `Python`\n",
                "\n",
                "For the purpose of this discussion, we will concentrate on the Powershell Module.  \n",
                "We have documented [Getting Started](https://github.com/rubrikinc/rubrik-sdk-for-powershell/blob/master/docs/quick-start.md). Here you will find information on prerequisites and how to install the SDK. Rubrik's Powershell module is available on Github and via the Powershell Gallery.  \n",
                "While all cmdlets are documented and that documentation can be seen using Get-Help cmdlet, you can also find the documentation for each cmdlet on our [Gitbook](https://rubrik.gitbook.io/rubrik-sdk-for-powershell/) site. \n",
                "\n",
                "## Try It Out!\n",
                "After you have installed the Powershell Module, run the below commands from a Powershell terminal \n",
                "\n",
                "```ps\n",
                "Get-Command -Module Rubrik\n",
                "```\n",
                "\n",
                "```ps\n",
                "Get-Help Connect-Rubrik -ShowWindow\n",
                "```\n",
                "\n",
                "```ps\n",
                "Get-Help Get-RubrikDatabase -ShowWindow\n",
                "```\n",
                "\n",
                "```ps\n",
                "Get-Help New-RubrikSnapshot -ShowWindow\n",
                "```\n",
                "\n",
                "```ps\n",
                "Get-Help Restore-RubrikDatabase -ShowWindow\n",
                "```\n",
                "```ps\n",
                "Get-Help Export-RubrikDatabase -ShowWindow\n",
                "```\n",
                "```ps\n",
                "Get-Help New-RubrikDatabaseMount -ShowWindow\n",
                "```\n",
                "```ps\n",
                "Get-Help New-RubrikLogShipping -ShowWindow\n",
                "```"
            ]
        }
    ],
    "metadata": {
        "kernelspec": {
            "display_name": ".NET (C#)",
            "language": "C#",
            "name": ".net-csharp"
        },
        "language_info": {
            "file_extension": ".cs",
            "mimetype": "text/x-csharp",
            "name": "C#",
            "pygments_lexer": "csharp",
            "version": "9.0"
        }
    },
    "nbformat": 4,
    "nbformat_minor": 2
}
