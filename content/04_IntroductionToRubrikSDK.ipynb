{
    "metadata": {
        "kernelspec": {
            "name": "powershell",
            "display_name": "PowerShell"
        },
        "language_info": {
            "name": "powershell",
            "codemirror_mode": "shell",
            "mimetype": "text/x-sh",
            "file_extension": ".ps1"
        }
    },
    "nbformat_minor": 2,
    "nbformat": 4,
    "cells": [
        {
            "cell_type": "markdown",
            "source": [
                "# Introduction to Rubrik SDK\r\n",
                "All SDKs that are available at this time can be found on [build.rubrik.com](build.rubrik.com). Rubrik offers 3 SDKs at the time of this writing. \r\n",
                "- `Go`\r\n",
                "- `Powershell`\r\n",
                "- `Python`\r\n",
                "\r\n",
                "For the purpose of this discussion, we will concentrate on the Powershell Module.  \r\n",
                "We have documented [Getting Started](https://github.com/rubrikinc/rubrik-sdk-for-powershell/blob/master/docs/quick-start.md). Here you will find information on prerequisites and how to install the SDK. Rubrik's Powershell module is available on Github and via the Powershell Gallery.  \r\n",
                "While all cmdlets are documented and that documentation can be seen using Get-Help cmdlet, you can also find the documentation for each cmdlet on our [Gitbook](https://rubrik.gitbook.io/rubrik-sdk-for-powershell/) site. \r\n",
                "\r\n",
                "## Try It Out!\r\n",
                "After you have installed the Powershell Module, run the below commands from a Powershell terminal \r\n",
                "\r\n",
                "```ps\r\n",
                "Get-Command -Module Rubrik\r\n",
                "```\r\n",
                "\r\n",
                "```ps\r\n",
                "Get-Help Connect-Rubrik -ShowWindow\r\n",
                "```\r\n",
                "\r\n",
                "```ps\r\n",
                "Get-Help Get-RubrikDatabase -ShowWindow\r\n",
                "```\r\n",
                "\r\n",
                "```ps\r\n",
                "Get-Help New-RubrikSnapshot -ShowWindow\r\n",
                "```\r\n",
                "\r\n",
                "```ps\r\n",
                "Get-Help Restore-RubrikDatabase -ShowWindow\r\n",
                "```\r\n",
                "```ps\r\n",
                "Get-Help Export-RubrikDatabase -ShowWindow\r\n",
                "```\r\n",
                "```ps\r\n",
                "Get-Help New-RubrikDatabaseMount -ShowWindow\r\n",
                "```\r\n",
                "```ps\r\n",
                "Get-Help New-RubrikLogShipping -ShowWindow\r\n",
                "```"
            ],
            "metadata": {
                "azdata_cell_guid": "05ed2a54-4ab4-450d-b533-9d6d09d01952"
            }
        }
    ]
}