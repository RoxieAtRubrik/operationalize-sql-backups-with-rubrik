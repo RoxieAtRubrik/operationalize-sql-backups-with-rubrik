{
    "cells": [
        {
            "cell_type": "markdown",
            "metadata": {
                "azdata_cell_guid": "fcf21c51-ae63-4116-83b4-d97d8a941ef1"
            },
            "source": [
                "# Additional Resources\n",
                "- [Rubrik Powershell Module on Github](https://github.com/rubrikinc/rubrik-sdk-for-powershell)\n",
                "- [Rubrik PowerShell Intro for SQL Server - Youtube](https://www.youtube.com/watch?v=HRxypBTZkI0&feature=youtu.be)\n",
                "- [Rubrik Build](https://build.rubrik.com/)\n",
                "- [Diving Deeper into Powershell](https://pages.rubrik.com/20200318-Webinar-NAM-PowerShell-LP.html)\n",
                "- [Backup Validation Tool](https://build.rubrik.com/use-cases/backup-validation/)\n",
                "- [Rubrik Scripts for Powershell on Github](https://github.com/rubrikinc/rubrik-scripts-for-powershell)\n",
                "- [Rubrik Python SDK on Github](https://github.com/rubrikinc/rubrik-sdk-for-python)\n",
                "- [Rubrik Scripts for Python on Github](https://github.com/rubrikinc/rubrik-scripts-for-python)\n",
                "\n"
            ]
        }
    ],
    "metadata": {
        "kernelspec": {
            "display_name": ".NET (C#)",
            "language": "C#",
            "name": ".net-csharp"
        },
        "language_info": {
            "file_extension": ".cs",
            "mimetype": "text/x-csharp",
            "name": "C#",
            "pygments_lexer": "csharp",
            "version": "9.0"
        }
    },
    "nbformat": 4,
    "nbformat_minor": 2
}
