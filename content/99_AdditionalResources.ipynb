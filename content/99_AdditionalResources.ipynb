{
    "metadata": {
        "kernelspec": {
            "name": "SQL",
            "display_name": "SQL",
            "language": "sql"
        },
        "language_info": {
            "name": "sql",
            "version": ""
        }
    },
    "nbformat_minor": 2,
    "nbformat": 4,
    "cells": [
        {
            "cell_type": "markdown",
            "source": [
                "# Additional Resources\r\n",
                "- [Rubrik Powershell Module on Github](https://github.com/rubrikinc/rubrik-sdk-for-powershell)\r\n",
                "- [Rubrik PowerShell Intro for SQL Server - Youtube](https://www.youtube.com/watch?v=HRxypBTZkI0&feature=youtu.be)\r\n",
                "- [Rubrik Build](https://build.rubrik.com/)\r\n",
                "- [Diving Deeper into Powershell](https://pages.rubrik.com/20200318-Webinar-NAM-PowerShell-LP.html)\r\n",
                "- [Backup Validation Tool](https://build.rubrik.com/use-cases/backup-validation/)\r\n",
                "- [Rubrik Scripts for Powershell on Github](https://github.com/rubrikinc/rubrik-scripts-for-powershell)\r\n",
                "- [Rubrik Python SDK on Github](https://github.com/rubrikinc/rubrik-sdk-for-python)\r\n",
                "- [Rubrik Scripts for Python on Github](https://github.com/rubrikinc/rubrik-scripts-for-python)\r\n",
                "\r\n",
                ""
            ],
            "metadata": {
                "azdata_cell_guid": "fcf21c51-ae63-4116-83b4-d97d8a941ef1"
            }
        }
    ]
}