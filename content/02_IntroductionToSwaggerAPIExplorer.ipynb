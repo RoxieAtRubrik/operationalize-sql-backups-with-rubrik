{
    "metadata": {
        "kernelspec": {
            "name": "SQL",
            "display_name": "SQL",
            "language": "sql"
        },
        "language_info": {
            "name": "sql",
            "version": ""
        }
    },
    "nbformat_minor": 2,
    "nbformat": 4,
    "cells": [
        {
            "cell_type": "markdown",
            "source": [
                "# Introduction to Swagger API Explorer\r\n",
                "Rubrik offers a way for you to interact with its APIs directly. Once you have read the documentation, and developed your theory, you put your theory into practice by visiting https://yourrubikcluster/docs/v1/playground . \r\n",
                "This site is an API Explorer using the Swagger framework. From here you can authenticate into your Rubrik cluster and use any of the endpoints to test out your theory. \r\n",
                "\r\n",
                "![image](../assets/images/Intro_to_Swagger_API_Explorer.png)\r\n",
                "\r\n",
                "## Try it out!\r\n",
                "1. Open your browser (Rubrik works best in Chromium based browsers)\r\n",
                "1. Go to https://yourrubikcluster/docs/v1/playground\r\n",
                "1. Click the green Authorize button in the top right corner\r\n",
                "1. Enter in your Rubrik user ID and password and click authorize\r\n",
                "1. Go down to the /mssql : SQL Server instances and databases section and click Show/Hide\r\n",
                "1. Click on the first subsection where it says Get /mssql/db\r\n",
                "1. Here you will see a list of parameters. These will allow you to filter down the list of databases that are registered in Rubrik. \r\n",
                "1. In the name field type in a database name of `master` (or some other database you know of that Rurbik knows about)\r\n",
                "1. Click the Try it out! button\r\n",
                "1. Review the output\r\n",
                "    1. Notice the curl statement as this is how you make a REST API Call\r\n",
                "    1. Notice the Request URL. You will see similar output later when reviewing the Chrome Developer Tools\r\n",
                "    1. Scroll through the Response Body. This is in JSON format. As you scroll through, you will see data about the master database on each SQL Server that is returned back.\r\n",
                "\r\n",
                "\r\n",
                "![image](../assets/images/Get_mssql_db.png)"
            ],
            "metadata": {
                "azdata_cell_guid": "1fe367c5-24a9-4415-a007-8a17cb264eee"
            }
        }
    ]
}