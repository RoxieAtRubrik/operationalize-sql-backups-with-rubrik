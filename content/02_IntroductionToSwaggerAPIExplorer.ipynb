{
 "cells": [
  {
   "cell_type": "markdown",
   "metadata": {
    "azdata_cell_guid": "1fe367c5-24a9-4415-a007-8a17cb264eee"
   },
   "source": [
    "# Introduction to Swagger API Explorer\n",
    "Rubrik offers a way for you to interact with its APIs directly. Once you have read the documentation, and developed your theory, you put your theory into practice by visiting https://yourrubikcluster/docs/v1/playground . \n",
    "This site is an API Explorer using the Swagger framework. From here you can authenticate into your Rubrik cluster and use any of the endpoints to test out your theory. \n",
    "\n",
    "![image](../assets/images/Intro_to_Swagger_API_Explorer.png)\n",
    "\n",
    "## Try it out!\n",
    "1. Open your browser (Rubrik works best in Chromium based browsers)\n",
    "1. Go to https://yourrubikcluster/docs/v1/playground\n",
    "1. Click the green Authorize button in the top right corner\n",
    "1. Enter in your Rubrik user ID and password and click authorize\n",
    "1. Go down to the /mssql : SQL Server instances and databases section and click Show/Hide\n",
    "1. Click on the first subsection where it says Get /mssql/db\n",
    "1. Here you will see a list of parameters. These will allow you to filter down the list of databases that are registered in Rubrik. \n",
    "1. In the name field type in a database name of `master` (or some other database you know of that Rurbik knows about)\n",
    "1. Click the Try it out! button\n",
    "1. Review the output\n",
    "    1. Notice the curl statement as this is how you make a REST API Call\n",
    "    1. Notice the Request URL. You will see similar output later when reviewing the Chrome Developer Tools\n",
    "    1. Scroll through the Response Body. This is in JSON format. As you scroll through, you will see data about the master database on each SQL Server that is returned back.\n",
    "\n",
    "\n",
    "![image](../assets/images/Get_mssql_db.png)"
   ]
  }
 ],
 "metadata": {
  "kernelspec": {
   "display_name": ".NET (C#)",
   "language": "C#",
   "name": ".net-csharp"
  },
  "language_info": {
   "file_extension": ".cs",
   "mimetype": "text/x-csharp",
   "name": "C#",
   "pygments_lexer": "csharp",
   "version": "9.0"
  }
 },
 "nbformat": 4,
 "nbformat_minor": 2
}
