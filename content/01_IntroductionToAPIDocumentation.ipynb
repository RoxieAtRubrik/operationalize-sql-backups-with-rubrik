{
    "metadata": {
        "kernelspec": {
            "name": "SQL",
            "display_name": "SQL",
            "language": "sql"
        },
        "language_info": {
            "name": "sql",
            "version": ""
        }
    },
    "nbformat_minor": 2,
    "nbformat": 4,
    "cells": [
        {
            "cell_type": "markdown",
            "source": [
                "# Introduction to API Documentation\r\n",
                "* Rubrik is an API first architecture. This means every call that is made via the UI, is calling an API. \r\n",
                "* All documentation for the APIs can be found in two places\r\n",
                "    * On the cluster itself at https://yourrubrikcluster/docs/v1/\r\n",
                "        * This will always be the most updated version that is for your Rubrik Cluster\r\n",
                "    * On [build.rubrik.com](https://build.rubrik.com), click the link in the top right that says [API Documentation](https://github.com/rubrikinc/api-documentation)\r\n",
                "\r\n",
                "1. Open your browser (Rubrik works best in Chromium based browsers)\r\n",
                "1. Go to https://yourrubrikcluster/docs/v1/\r\n",
                "    Make sure to replace [yourrubrikcluster] with the IP address of the DNS name of the Rubrik cluster you have onsite. \r\n",
                "1. Explore the differnt sections, for instance the Change Log or the OpenAPI section. \r\n",
                "1. Explore the SQL Server databases section to see the endpoints and method you would use to interact with SQL Server databases in Rubrik\r\n",
                "\r\n",
                "\r\n",
                "![image](../assets/images/Intro_to_API_Documentation2.png)\r\n",
                ""
            ],
            "metadata": {
                "azdata_cell_guid": "6ab4f182-189e-4584-a6e1-71c0edf866e3"
            }
        }
    ]
}