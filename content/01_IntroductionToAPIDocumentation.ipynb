{
 "cells": [
  {
   "cell_type": "markdown",
   "metadata": {
    "azdata_cell_guid": "6ab4f182-189e-4584-a6e1-71c0edf866e3"
   },
   "source": [
    "# Introduction to API Documentation\n",
    "* Rubrik is an API first architecture. This means every call that is made via the UI, is calling an API. \n",
    "* All documentation for the APIs can be found in two places\n",
    "    * On the cluster itself at https://yourrubrikcluster/docs/v1/\n",
    "        * This will always be the most updated version that is for your Rubrik Cluster\n",
    "    * On [build.rubrik.com](https://build.rubrik.com), click the link in the top right that says [API Documentation](https://github.com/rubrikinc/api-documentation)\n",
    "\n",
    "1. Open your browser (Rubrik works best in Chromium based browsers)\n",
    "1. Go to https://yourrubrikcluster/docs/v1/\n",
    "    Make sure to replace [yourrubrikcluster] with the IP address of the DNS name of the Rubrik cluster you have onsite. \n",
    "1. Explore the differnt sections, for instance the Change Log or the OpenAPI section. \n",
    "1. Explore the SQL Server databases section to see the endpoints and method you would use to interact with SQL Server databases in Rubrik\n",
    "\n",
    "\n",
    "![image](../assets/images/Intro_to_API_Documentation2.png)\n"
   ]
  }
 ],
 "metadata": {
  "kernelspec": {
   "display_name": ".NET (C#)",
   "language": "C#",
   "name": ".net-csharp"
  },
  "language_info": {
   "file_extension": ".cs",
   "mimetype": "text/x-csharp",
   "name": "C#",
   "pygments_lexer": "csharp",
   "version": "9.0"
  }
 },
 "nbformat": 4,
 "nbformat_minor": 2
}
