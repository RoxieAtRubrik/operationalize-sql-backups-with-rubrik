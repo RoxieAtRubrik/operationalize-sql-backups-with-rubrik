{
    "metadata": {
        "kernelspec": {
            "name": "SQL",
            "display_name": "SQL",
            "language": "sql"
        },
        "language_info": {
            "name": "sql",
            "version": ""
        }
    },
    "nbformat_minor": 2,
    "nbformat": 4,
    "cells": [
        {
            "cell_type": "markdown",
            "source": [
                "# Demo Chrome Developer Tools\r\n",
                "The Chome Developer Tools allow you to see what REST API Endpoints are being called when you click through the Rubrik UI. \r\n",
                "## Activate the Chrome Developer Tools\r\n",
                "To activate the Chrome Developer Tools, go to the menu in the upper right corner of Chrome, Click **More Tools**, Click **Developer tools**  \r\n",
                "or use the keyboard shortcut of `CTRL+Shift+I`\r\n",
                "\r\n",
                "![image](../assets/images/EnablingChromeDevTools.png)\r\n",
                "\r\n",
                "Then click on the Network tab  \r\n",
                "![image](../assets/images/ShowNetworkTab.png)\r\n",
                "\r\n",
                "## Developer Tools In Action\r\n",
                "### Click on a SQL Host\r\n",
                "- In the Rubrik UI, click Servers & Apps\r\n",
                "- Click SQL Server DBs\r\n",
                "- Make sure you are on the Hosts/Instances tab\r\n",
                "- Click on a host\r\n",
                "- Look at the dev tooks output on the right. It should look similar to the below.  \r\n",
                "![image](../assets/images/ClickOnSQLHost.png)\r\n",
                "\r\n",
                "\r\n",
                "### Click on a SQL Instance\r\n",
                "- You have clicked on the host via the above steps\r\n",
                "- Click on an instance of SQL Server\r\n",
                "- Look at the dev tooks output on the right. It should look similar to the below.  \r\n",
                "![image](../assets/images/ClickOnSQLInstance.png)\r\n",
                "\r\n",
                "\r\n",
                "### Click on a SQL Database\r\n",
                "- You have clicked on the instance via the above steps\r\n",
                "- Click on any database name\r\n",
                "- Look at the dev tooks output on the right. It should look similar to the below.  \r\n",
                "![image](../assets/images/ClickOnDatabase.png)\r\n",
                "\r\n",
                "\r\n",
                "### Click On Demand Backup\r\n",
                "- You have clicked on the database via the above steps\r\n",
                "- Click on Take On Demand Backup\r\n",
                "- Look at the dev tooks output on the right. It should look similar to the below.  \r\n",
                "![image](../assets/images/ClickOnDemandBackup.png)\r\n",
                ""
            ],
            "metadata": {
                "azdata_cell_guid": "a655fc58-0126-41b6-927a-c7e3f599e7ea"
            }
        }
    ]
}