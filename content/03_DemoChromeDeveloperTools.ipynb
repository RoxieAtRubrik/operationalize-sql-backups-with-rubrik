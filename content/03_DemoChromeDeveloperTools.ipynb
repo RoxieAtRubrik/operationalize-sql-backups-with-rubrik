{
 "cells": [
  {
   "cell_type": "markdown",
   "metadata": {
    "azdata_cell_guid": "a655fc58-0126-41b6-927a-c7e3f599e7ea"
   },
   "source": [
    "# Demo Chrome Developer Tools\n",
    "The Chome Developer Tools allow you to see what REST API Endpoints are being called when you click through the Rubrik UI. \n",
    "## Activate the Chrome Developer Tools\n",
    "To activate the Chrome Developer Tools, go to the menu in the upper right corner of Chrome, Click **More Tools**, Click **Developer tools**  \n",
    "or use the keyboard shortcut of `CTRL+Shift+I`\n",
    "\n",
    "![image](../assets/images/EnablingChromeDevTools.png)\n",
    "\n",
    "Then click on the Network tab  \n",
    "![image](../assets/images/ShowNetworkTab.png)\n",
    "\n",
    "## Developer Tools In Action\n",
    "### Click on a SQL Host\n",
    "- In the Rubrik UI, click Servers & Apps\n",
    "- Click SQL Server DBs\n",
    "- Make sure you are on the Hosts/Instances tab\n",
    "- Click on a host\n",
    "- Look at the dev tooks output on the right. It should look similar to the below.  \n",
    "![image](../assets/images/ClickOnSQLHost.png)\n",
    "\n",
    "\n",
    "### Click on a SQL Instance\n",
    "- You have clicked on the host via the above steps\n",
    "- Click on an instance of SQL Server\n",
    "- Look at the dev tooks output on the right. It should look similar to the below.  \n",
    "![image](../assets/images/ClickOnSQLInstance.png)\n",
    "\n",
    "\n",
    "### Click on a SQL Database\n",
    "- You have clicked on the instance via the above steps\n",
    "- Click on any database name\n",
    "- Look at the dev tooks output on the right. It should look similar to the below.  \n",
    "![image](../assets/images/ClickOnDatabase.png)\n",
    "\n",
    "\n",
    "### Click On Demand Backup\n",
    "- You have clicked on the database via the above steps\n",
    "- Click on Take On Demand Backup\n",
    "- Look at the dev tooks output on the right. It should look similar to the below.  \n",
    "![image](../assets/images/ClickOnDemandBackup.png)\n"
   ]
  }
 ],
 "metadata": {
  "kernelspec": {
   "display_name": ".NET (C#)",
   "language": "C#",
   "name": ".net-csharp"
  },
  "language_info": {
   "file_extension": ".cs",
   "mimetype": "text/x-csharp",
   "name": "C#",
   "pygments_lexer": "csharp",
   "version": "9.0"
  }
 },
 "nbformat": 4,
 "nbformat_minor": 2
}
